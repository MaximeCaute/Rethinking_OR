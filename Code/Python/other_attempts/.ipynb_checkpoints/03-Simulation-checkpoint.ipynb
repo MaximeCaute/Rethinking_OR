{
 "cells": [
  {
   "cell_type": "markdown",
   "metadata": {},
   "source": [
    "## SIMULATION NOTEBOOK :)"
   ]
  },
  {
   "cell_type": "code",
   "execution_count": null,
   "metadata": {},
   "outputs": [],
   "source": [
    "from Simulator import Simulation, Vehicle, Client\n",
    "import pandas as pd\n",
    "import networkx as nx\n",
    "import numpy as np\n",
    "import matplotlib.pyplot as plt\n",
    "import pickle"
   ]
  },
  {
   "cell_type": "markdown",
   "metadata": {},
   "source": [
    "### GENERATE DATA FOR TRAINING"
   ]
  },
  {
   "cell_type": "code",
   "execution_count": null,
   "metadata": {},
   "outputs": [],
   "source": [
    "TABLE = 1"
   ]
  },
  {
   "cell_type": "code",
   "execution_count": null,
   "metadata": {},
   "outputs": [],
   "source": [
    "# generate episode\n",
    "Event = Simulation(TABLE)\n",
    "\n",
    "# initialize variables\n",
    "client = 0\n",
    "i = 0\n",
    "\n",
    "# store images (state and cliet requests)\n",
    "store_data = {}\n",
    "\n",
    "# generate first request\n",
    "client, state = Event.get_next_customer()\n",
    "\n",
    "\n",
    "while client != -1:\n",
    "    # process client and store current state\n",
    "    print('Client ', i, 'Time: ', Event.time)\n",
    "    store_data[i] = [state]\n",
    "    \n",
    "    # assign vehicle according to Claudia's policy\n",
    "    next_vehicle = Event.rides[Event.rides.cust_id == client.ID].vehicle_id.values[0]\n",
    "    V = Event.vehicles[next_vehicle-1]\n",
    "    V.assign_client(client)\n",
    "    i += 1\n",
    "    \n",
    "    # update state and get next request\n",
    "    client, state = Event.get_next_customer()\n",
    "    \n",
    "\n",
    "# end episode: pick and drop all the remaining clients\n",
    "for v in Event.vehicles:\n",
    "    print('Finishing with ', v.ID)\n",
    "    while len(v.clients) != 0 or len(v.clients_to_pick) != 0:\n",
    "        # set time to 1000 to let the process continue until termination\n",
    "        v.update(1000)\n",
    "\n",
    "np.save('./simulation/data_{}.json'.format(TABLE), store_data)\n",
    "print('Finished without problems :) \\n')\n",
    "\n",
    "\n",
    "\n"
   ]
  },
  {
   "cell_type": "code",
   "execution_count": null,
   "metadata": {},
   "outputs": [],
   "source": [
    "# store clients data\n",
    "clients_info = []\n",
    "for c in Event.customers:\n",
    "    info = {\n",
    "        'ID': c.ID, 'arrival': c.arrival, 'pickup_t': c.pickup_t, 'dropoff_t': c.dropoff_t\n",
    "    }\n",
    "    clients_info.append(info)\n",
    "    \n",
    "df_clients = pd.DataFrame(clients_info)"
   ]
  },
  {
   "cell_type": "code",
   "execution_count": null,
   "metadata": {},
   "outputs": [],
   "source": [
    "df_clients"
   ]
  },
  {
   "cell_type": "code",
   "execution_count": null,
   "metadata": {},
   "outputs": [],
   "source": [
    "Event.rides"
   ]
  },
  {
   "cell_type": "code",
   "execution_count": null,
   "metadata": {},
   "outputs": [],
   "source": [
    "# comparison of results\n",
    "simu = df_clients.iloc[10:60]\n",
    "solution = Event.rides.iloc[10:60]\n",
    "\n",
    "fig, ax = plt.subplots(figsize=(20,5))\n",
    "simu.plot(kind='scatter', x='arrival', y='ID', ax=ax, c='green')\n",
    "simu.plot(kind='scatter', x='pickup_t', y='ID', ax=ax, c='blue')\n",
    "solution.plot(kind='scatter', x='pickup_t', y='cust_id', ax=ax, c='blue', marker='*', s=100)\n",
    "simu.plot(kind='scatter', x='dropoff_t', y='ID', ax=ax, c='black')\n",
    "solution.plot(kind='scatter', x='dropoff_t', y='cust_id', ax=ax, c='black', marker = '*', s=100)\n",
    "\n",
    "#df_clients.iloc[1:10].plot(kind='scatter', x='max_time', y='ID', ax=ax, c='red')\n",
    "plt.legend(['Arrival', 'Pickup', 'Pickup - Solution', 'Dropoff', 'Dropoff - Solution'], loc=1)\n",
    "plt.grid()\n",
    "plt.title('10 customers ride times')\n",
    "plt.show()"
   ]
  },
  {
   "cell_type": "code",
   "execution_count": null,
   "metadata": {},
   "outputs": [],
   "source": [
    "df_clients.to_pickle('./simulation/clients_simu_{}.pkl'.format(TABLE))"
   ]
  },
  {
   "cell_type": "code",
   "execution_count": null,
   "metadata": {},
   "outputs": [],
   "source": [
    "comparison = pd.merge(df_clients, Event.rides, left_on='ID', right_on='cust_id', \\\n",
    "             suffixes=('_simu','_sol'))\n",
    "\n",
    "comparison.to_pickle('./simulation/comparison_{}.pkl'.format(TABLE))"
   ]
  },
  {
   "cell_type": "code",
   "execution_count": null,
   "metadata": {},
   "outputs": [],
   "source": []
  },
  {
   "cell_type": "code",
   "execution_count": null,
   "metadata": {},
   "outputs": [],
   "source": []
  }
 ],
 "metadata": {
  "kernelspec": {
   "display_name": "Python 3",
   "language": "python",
   "name": "python3"
  },
  "language_info": {
   "codemirror_mode": {
    "name": "ipython",
    "version": 3
   },
   "file_extension": ".py",
   "mimetype": "text/x-python",
   "name": "python",
   "nbconvert_exporter": "python",
   "pygments_lexer": "ipython3",
   "version": "3.7.3"
  }
 },
 "nbformat": 4,
 "nbformat_minor": 2
}
