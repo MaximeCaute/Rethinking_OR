{
 "cells": [
  {
   "cell_type": "markdown",
   "metadata": {},
   "source": [
    "# 04 - GENERATE INPUT WITH SIMULATOR"
   ]
  },
  {
   "cell_type": "code",
   "execution_count": 1,
   "metadata": {},
   "outputs": [],
   "source": [
    "from generate_data import generate_data"
   ]
  },
  {
   "cell_type": "code",
   "execution_count": 2,
   "metadata": {},
   "outputs": [
    {
     "name": "stdout",
     "output_type": "stream",
     "text": [
      "TABLE = 1 --------------------------------------------\n",
      "Finishing with  42.85\n",
      "Finished without problems :) \n",
      "\n",
      "TABLE = 2 --------------------------------------------\n",
      "Finishing with  74.57\n",
      "Finished without problems :) \n",
      "\n",
      "TABLE = 3 --------------------------------------------\n",
      "Finishing with  86.22\n",
      "Finished without problems :) \n",
      "\n",
      "TABLE = 4 --------------------------------------------\n",
      "Finishing with  88.17\n",
      "Finished without problems :) \n",
      "\n",
      "TABLE = 5 --------------------------------------------\n",
      "Finishing with  35.68\n",
      "Finished without problems :) \n",
      "\n",
      "TABLE = 6 --------------------------------------------\n",
      "Finishing with  39.62\n",
      "Finished without problems :) \n",
      "\n",
      "TABLE = 7 --------------------------------------------\n",
      "Finishing with  87.62\n",
      "Finished without problems :) \n",
      "\n",
      "TABLE = 8 --------------------------------------------\n",
      "Finishing with  38.12\n",
      "Finished without problems :) \n",
      "\n",
      "TABLE = 9 --------------------------------------------\n",
      "Finishing with  31.17\n",
      "Finished without problems :) \n",
      "\n",
      "TABLE = 10 --------------------------------------------\n",
      "Finishing with  37.45\n",
      "Finished without problems :) \n",
      "\n",
      "TABLE = 11 --------------------------------------------\n",
      "Finishing with  89.75\n",
      "Finished without problems :) \n",
      "\n",
      "TABLE = 12 --------------------------------------------\n",
      "Finishing with  97.78\n",
      "Finished without problems :) \n",
      "\n",
      "TABLE = 13 --------------------------------------------\n",
      "Finishing with  53.87\n",
      "Finished without problems :) \n",
      "\n",
      "TABLE = 14 --------------------------------------------\n",
      "Finishing with  37.95\n",
      "Finished without problems :) \n",
      "\n",
      "TABLE = 15 --------------------------------------------\n",
      "Finishing with  34.45\n",
      "Finished without problems :) \n",
      "\n",
      "TABLE = 16 --------------------------------------------\n",
      "Finishing with  50.12\n",
      "Finished without problems :) \n",
      "\n",
      "TABLE = 17 --------------------------------------------\n",
      "Finishing with  352.03\n",
      "Finished without problems :) \n",
      "\n",
      "TABLE = 18 --------------------------------------------\n",
      "Finishing with  27.47\n",
      "Finished without problems :) \n",
      "\n",
      "TABLE = 19 --------------------------------------------\n",
      "Finishing with  40.62\n",
      "Finished without problems :) \n",
      "\n",
      "TABLE = 20 --------------------------------------------\n",
      "Finishing with  57.18\n",
      "Finished without problems :) \n",
      "\n"
     ]
    }
   ],
   "source": [
    "for i in range(1, 21):\n",
    "    print('TABLE = {} --------------------------------------------'.format(i))\n",
    "    generate_data(i)"
   ]
  },
  {
   "cell_type": "code",
   "execution_count": null,
   "metadata": {},
   "outputs": [],
   "source": []
  }
 ],
 "metadata": {
  "kernelspec": {
   "display_name": "Python 3",
   "language": "python",
   "name": "python3"
  },
  "language_info": {
   "codemirror_mode": {
    "name": "ipython",
    "version": 3
   },
   "file_extension": ".py",
   "mimetype": "text/x-python",
   "name": "python",
   "nbconvert_exporter": "python",
   "pygments_lexer": "ipython3",
   "version": "3.7.3"
  }
 },
 "nbformat": 4,
 "nbformat_minor": 2
}
