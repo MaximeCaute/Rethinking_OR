{
 "cells": [
  {
   "cell_type": "markdown",
   "metadata": {},
   "source": [
    "## Time evaluation of the different policies"
   ]
  },
  {
   "cell_type": "code",
   "execution_count": 1,
   "metadata": {},
   "outputs": [],
   "source": [
    "from SimulatorNN import Simulation, Vehicle, Client\n",
    "from Utils import get_vehicle_assignment_nn\n",
    "import pandas as pd\n",
    "import networkx as nx\n",
    "import numpy as np\n",
    "import matplotlib.pyplot as plt\n",
    "import matplotlib\n",
    "import pickle\n",
    "import torch.nn as nn\n",
    "import torch.nn.functional as F\n",
    "import torch\n",
    "\n",
    "from models import *\n",
    "from evaluate_times import generate_event, generate_times, print_statistics"
   ]
  },
  {
   "cell_type": "code",
   "execution_count": 2,
   "metadata": {},
   "outputs": [],
   "source": [
    "import osmnx as onx\n",
    "import networkx as nx\n",
    "matplotlib.rcParams.update({'font.size': 14})"
   ]
  },
  {
   "cell_type": "code",
   "execution_count": 3,
   "metadata": {},
   "outputs": [],
   "source": [
    "def show_statistics_time(total_info):\n",
    "    f, ax = plt.subplots(2,2,figsize=(15,10), sharey=True)\n",
    "    ax = ax.flatten()\n",
    "    total_info.plot(kind='box', y='service_t_network', ax=ax[0])\n",
    "    total_info.plot(kind='box', y='service_t_solution', ax=ax[1])\n",
    "    ax[0].set_title('Service Time Net assignment')\n",
    "    ax[1].set_title('Service Time Solution')\n",
    "\n",
    "    total_info.plot(kind='box', y='travel_t_network', ax=ax[2])\n",
    "    total_info.plot(kind='box', y='travel_t_solution', ax=ax[3])\n",
    "    ax[2].set_title('Travel time Net assignment')\n",
    "    ax[3].set_title('Travel time Solution')\n",
    "    plt.show()\n",
    "    \n",
    "\n",
    "def results_comparison(total_info, cust1=0, cust2=10):\n",
    "    # comparison of results\n",
    "    simu = total_info[cust1:cust2]\n",
    "\n",
    "    fig, ax = plt.subplots(figsize=(20,5))\n",
    "    simu.plot(kind='scatter', x='arrival', y='ID', ax=ax, c='green')\n",
    "    simu.plot(kind='scatter', x='pickup_t_network', y='ID', ax=ax, c='blue')\n",
    "    simu.plot(kind='scatter', x='pickup_t_solution', y='ID', ax=ax, c='blue', marker='*', s=100)\n",
    "    simu.plot(kind='scatter', x='dropoff_t_network', y='ID', ax=ax, c='black')\n",
    "    simu.plot(kind='scatter', x='dropoff_t_solution', y='ID', ax=ax, c='black', marker = '*', s=100)\n",
    "\n",
    "    #df_clients.iloc[1:10].plot(kind='scatter', x='max_time', y='ID', ax=ax, c='red')\n",
    "    plt.legend(['Arrival', 'Pickup', 'Pickup - Solution', 'Dropoff', 'Dropoff - Solution'], loc=1)\n",
    "    plt.grid()\n",
    "    plt.title('10 customers ride times')\n",
    "    plt.show()\n",
    "\n",
    "def compute_obj(total_info, Event):\n",
    "    return sum(total_info.delta_t_network), sum(v.ride_time for v in Event.vehicles)\n",
    "\n",
    "def count_v(Event):\n",
    "    cv = 0\n",
    "    for v in Event.vehicles:\n",
    "        if v.ride_time > 0:\n",
    "            cv +=1\n",
    "    return cv"
   ]
  },
  {
   "cell_type": "code",
   "execution_count": 4,
   "metadata": {},
   "outputs": [],
   "source": [
    "def visualize_route(Event, num_v):\n",
    "    if num_v > len(Event.vehicles):\n",
    "        print('Error. Not a valid vehicle number')\n",
    "    else:\n",
    "        v0 = Event.vehicles[num_v]\n",
    "        a = pd.DataFrame(data=v0.movements, columns=['nodes'])\n",
    "        a['node_OS'] = [Event.mapping[a.nodes.iloc[i]] for i in range(a.shape[0])]\n",
    "        \n",
    "        r = []\n",
    "        for i in range(a.shape[0]-1):\n",
    "            rr = nx.shortest_path(Event.G, a.iloc[i].node_OS, a.iloc[i+1].node_OS)\n",
    "            if len(rr)>1:\n",
    "                r.append(rr)\n",
    "        size = []\n",
    "        max_r = len(r)\n",
    "        for i in range(max_r):\n",
    "            size += [i/max_r *100 + 3, i/max_r *100 + 3]\n",
    "            \n",
    "        \n",
    "        onx.plot_graph_routes(Event.G, r, fig_height=8, route_linewidth=2, orig_dest_node_size=size)\n",
    "        plt.show()"
   ]
  },
  {
   "cell_type": "markdown",
   "metadata": {},
   "source": [
    "### Evaluate performance of different models in terms of time \n",
    "\n",
    "We define:\n",
    "- delta_time = dropoff time - client request arrival \n",
    "- travel_t = dropoff time - pickup time\n",
    "- service_t = pickup time - client request arrival"
   ]
  },
  {
   "cell_type": "code",
   "execution_count": 301,
   "metadata": {},
   "outputs": [],
   "source": [
    "TABLE = 18\n",
    "NN = True"
   ]
  },
  {
   "cell_type": "code",
   "execution_count": 302,
   "metadata": {},
   "outputs": [],
   "source": [
    "Event_base = generate_event(TABLE, 0, False, 0, 0)\n",
    "df_clients_event_base, sol_event_base =  generate_times(Event_base)\n",
    "df_clients_event_base['model'] = ['solution']*df_clients_event_base.shape[0]"
   ]
  },
  {
   "cell_type": "code",
   "execution_count": 303,
   "metadata": {},
   "outputs": [
    {
     "data": {
      "text/plain": [
       "vehicle_id       1354.00000\n",
       "pickup_t        17417.57373\n",
       "dropoff_t       18169.40715\n",
       "excess_t          751.83342\n",
       "cust_id          5050.00000\n",
       "time            16680.73000\n",
       "customer         5050.00000\n",
       "service_time      736.84373\n",
       "travel_time       751.83342\n",
       "total_time       1488.67715\n",
       "dtype: float64"
      ]
     },
     "execution_count": 303,
     "metadata": {},
     "output_type": "execute_result"
    }
   ],
   "source": [
    "df_rides = pd.read_pickle('./tables/rides_sol_{}.pkl'.format(TABLE-1))\n",
    "df_times = pd.read_pickle('./tables/time_sol_{}.pkl'.format(TABLE-1))\n",
    "\n",
    "total = pd.merge(df_rides, df_times, left_on='cust_id', right_on='customer')\n",
    "total.time = total.time.astype('float')\n",
    "\n",
    "total['service_time'] = total['pickup_t'] - total.time\n",
    "total['travel_time'] = total.dropoff_t - total['pickup_t'] \n",
    "total['total_time'] = total.dropoff_t - total.time\n",
    "total.drop(total[total.pickup_t == 0].index, inplace=True)\n",
    "total.sum()"
   ]
  },
  {
   "cell_type": "code",
   "execution_count": 304,
   "metadata": {},
   "outputs": [
    {
     "data": {
      "text/html": [
       "<div>\n",
       "<style scoped>\n",
       "    .dataframe tbody tr th:only-of-type {\n",
       "        vertical-align: middle;\n",
       "    }\n",
       "\n",
       "    .dataframe tbody tr th {\n",
       "        vertical-align: top;\n",
       "    }\n",
       "\n",
       "    .dataframe thead th {\n",
       "        text-align: right;\n",
       "    }\n",
       "</style>\n",
       "<table border=\"1\" class=\"dataframe\">\n",
       "  <thead>\n",
       "    <tr style=\"text-align: right;\">\n",
       "      <th></th>\n",
       "      <th>vehicle_id</th>\n",
       "      <th>pickup_t</th>\n",
       "      <th>dropoff_t</th>\n",
       "      <th>excess_t</th>\n",
       "      <th>cust_id</th>\n",
       "      <th>time</th>\n",
       "      <th>customer</th>\n",
       "      <th>service_time</th>\n",
       "      <th>travel_time</th>\n",
       "      <th>total_time</th>\n",
       "    </tr>\n",
       "  </thead>\n",
       "  <tbody>\n",
       "    <tr>\n",
       "      <th>99</th>\n",
       "      <td>30</td>\n",
       "      <td>362.308</td>\n",
       "      <td>365.236</td>\n",
       "      <td>2.928</td>\n",
       "      <td>100</td>\n",
       "      <td>352.03</td>\n",
       "      <td>100</td>\n",
       "      <td>10.278</td>\n",
       "      <td>2.928</td>\n",
       "      <td>13.206</td>\n",
       "    </tr>\n",
       "    <tr>\n",
       "      <th>98</th>\n",
       "      <td>2</td>\n",
       "      <td>361.798</td>\n",
       "      <td>380.376</td>\n",
       "      <td>18.578</td>\n",
       "      <td>99</td>\n",
       "      <td>349.03</td>\n",
       "      <td>99</td>\n",
       "      <td>12.768</td>\n",
       "      <td>18.578</td>\n",
       "      <td>31.346</td>\n",
       "    </tr>\n",
       "    <tr>\n",
       "      <th>94</th>\n",
       "      <td>2</td>\n",
       "      <td>356.392</td>\n",
       "      <td>370.408</td>\n",
       "      <td>14.016</td>\n",
       "      <td>95</td>\n",
       "      <td>341.68</td>\n",
       "      <td>95</td>\n",
       "      <td>14.712</td>\n",
       "      <td>14.016</td>\n",
       "      <td>28.728</td>\n",
       "    </tr>\n",
       "    <tr>\n",
       "      <th>95</th>\n",
       "      <td>2</td>\n",
       "      <td>351.199</td>\n",
       "      <td>364.317</td>\n",
       "      <td>13.118</td>\n",
       "      <td>96</td>\n",
       "      <td>342.18</td>\n",
       "      <td>96</td>\n",
       "      <td>9.019</td>\n",
       "      <td>13.118</td>\n",
       "      <td>22.137</td>\n",
       "    </tr>\n",
       "    <tr>\n",
       "      <th>97</th>\n",
       "      <td>30</td>\n",
       "      <td>348.938</td>\n",
       "      <td>356.483</td>\n",
       "      <td>7.545</td>\n",
       "      <td>98</td>\n",
       "      <td>343.72</td>\n",
       "      <td>98</td>\n",
       "      <td>5.218</td>\n",
       "      <td>7.545</td>\n",
       "      <td>12.763</td>\n",
       "    </tr>\n",
       "    <tr>\n",
       "      <th>...</th>\n",
       "      <td>...</td>\n",
       "      <td>...</td>\n",
       "      <td>...</td>\n",
       "      <td>...</td>\n",
       "      <td>...</td>\n",
       "      <td>...</td>\n",
       "      <td>...</td>\n",
       "      <td>...</td>\n",
       "      <td>...</td>\n",
       "      <td>...</td>\n",
       "    </tr>\n",
       "    <tr>\n",
       "      <th>1</th>\n",
       "      <td>1</td>\n",
       "      <td>11.422</td>\n",
       "      <td>16.455</td>\n",
       "      <td>5.033</td>\n",
       "      <td>2</td>\n",
       "      <td>1.98</td>\n",
       "      <td>2</td>\n",
       "      <td>9.442</td>\n",
       "      <td>5.033</td>\n",
       "      <td>14.475</td>\n",
       "    </tr>\n",
       "    <tr>\n",
       "      <th>3</th>\n",
       "      <td>2</td>\n",
       "      <td>10.019</td>\n",
       "      <td>15.195</td>\n",
       "      <td>5.176</td>\n",
       "      <td>4</td>\n",
       "      <td>4.03</td>\n",
       "      <td>4</td>\n",
       "      <td>5.989</td>\n",
       "      <td>5.176</td>\n",
       "      <td>11.165</td>\n",
       "    </tr>\n",
       "    <tr>\n",
       "      <th>5</th>\n",
       "      <td>4</td>\n",
       "      <td>8.429</td>\n",
       "      <td>10.819</td>\n",
       "      <td>2.390</td>\n",
       "      <td>6</td>\n",
       "      <td>5.55</td>\n",
       "      <td>6</td>\n",
       "      <td>2.879</td>\n",
       "      <td>2.390</td>\n",
       "      <td>5.269</td>\n",
       "    </tr>\n",
       "    <tr>\n",
       "      <th>0</th>\n",
       "      <td>1</td>\n",
       "      <td>6.909</td>\n",
       "      <td>18.774</td>\n",
       "      <td>11.865</td>\n",
       "      <td>1</td>\n",
       "      <td>0.00</td>\n",
       "      <td>1</td>\n",
       "      <td>6.909</td>\n",
       "      <td>11.865</td>\n",
       "      <td>18.774</td>\n",
       "    </tr>\n",
       "    <tr>\n",
       "      <th>2</th>\n",
       "      <td>2</td>\n",
       "      <td>4.530</td>\n",
       "      <td>10.521</td>\n",
       "      <td>5.991</td>\n",
       "      <td>3</td>\n",
       "      <td>3.63</td>\n",
       "      <td>3</td>\n",
       "      <td>0.900</td>\n",
       "      <td>5.991</td>\n",
       "      <td>6.891</td>\n",
       "    </tr>\n",
       "  </tbody>\n",
       "</table>\n",
       "<p>100 rows × 10 columns</p>\n",
       "</div>"
      ],
      "text/plain": [
       "    vehicle_id  pickup_t  dropoff_t  excess_t  cust_id    time  customer  \\\n",
       "99          30   362.308    365.236     2.928      100  352.03       100   \n",
       "98           2   361.798    380.376    18.578       99  349.03        99   \n",
       "94           2   356.392    370.408    14.016       95  341.68        95   \n",
       "95           2   351.199    364.317    13.118       96  342.18        96   \n",
       "97          30   348.938    356.483     7.545       98  343.72        98   \n",
       "..         ...       ...        ...       ...      ...     ...       ...   \n",
       "1            1    11.422     16.455     5.033        2    1.98         2   \n",
       "3            2    10.019     15.195     5.176        4    4.03         4   \n",
       "5            4     8.429     10.819     2.390        6    5.55         6   \n",
       "0            1     6.909     18.774    11.865        1    0.00         1   \n",
       "2            2     4.530     10.521     5.991        3    3.63         3   \n",
       "\n",
       "    service_time  travel_time  total_time  \n",
       "99        10.278        2.928      13.206  \n",
       "98        12.768       18.578      31.346  \n",
       "94        14.712       14.016      28.728  \n",
       "95         9.019       13.118      22.137  \n",
       "97         5.218        7.545      12.763  \n",
       "..           ...          ...         ...  \n",
       "1          9.442        5.033      14.475  \n",
       "3          5.989        5.176      11.165  \n",
       "5          2.879        2.390       5.269  \n",
       "0          6.909       11.865      18.774  \n",
       "2          0.900        5.991       6.891  \n",
       "\n",
       "[100 rows x 10 columns]"
      ]
     },
     "execution_count": 304,
     "metadata": {},
     "output_type": "execute_result"
    }
   ],
   "source": [
    "total.sort_values('pickup_t', ascending=False)"
   ]
  },
  {
   "cell_type": "code",
   "execution_count": 305,
   "metadata": {},
   "outputs": [
    {
     "data": {
      "text/plain": [
       "ID                                                        4750\n",
       "arrival                                                 941.66\n",
       "pickup_t                                               2099.03\n",
       "dropoff_t                                              3386.55\n",
       "delta_t                                                2444.89\n",
       "travel_t                                               1287.52\n",
       "service_t                                              1157.37\n",
       "model        solutionsolutionsolutionsolutionsolutionsoluti...\n",
       "dtype: object"
      ]
     },
     "execution_count": 305,
     "metadata": {},
     "output_type": "execute_result"
    }
   ],
   "source": [
    "df_clients_event_base.sum()"
   ]
  },
  {
   "cell_type": "code",
   "execution_count": 306,
   "metadata": {},
   "outputs": [],
   "source": [
    "model00 = torch.load('model_weights2/model1_evaluation.pt')\n",
    "model00.eval()\n",
    "num_channels = 31\n",
    "im_size = 30\n",
    "\n",
    "Event00 = generate_event(TABLE, model00, NN, num_channels, im_size, single_output=True, single_input=True)\n",
    "df_clients_event00, sol_event00 =  generate_times(Event00)\n",
    "df_clients_event00['model'] = ['Model 1']*df_clients_event00.shape[0]\n",
    "total = df_clients_event_base.append(df_clients_event00)"
   ]
  },
  {
   "cell_type": "code",
   "execution_count": 307,
   "metadata": {},
   "outputs": [],
   "source": [
    "model2 = torch.load('model_weights2/model2_evaluation.pt')\n",
    "model2.eval()\n",
    "num_channels = 31\n",
    "im_size = 30\n",
    "\n",
    "Event2 = generate_event(TABLE, model2, NN, num_channels, im_size, single_input=True)\n",
    "df_clients_event2, sol_event2 =  generate_times(Event2)\n",
    "df_clients_event2['model'] = ['Model 2']*df_clients_event2.shape[0]\n",
    "total = total.append(df_clients_event2)"
   ]
  },
  {
   "cell_type": "code",
   "execution_count": 308,
   "metadata": {},
   "outputs": [],
   "source": [
    "model3 = torch.load('model_weights2/model3_evaluation.pt')\n",
    "model3.eval()\n",
    "num_channels = 31\n",
    "im_size = 30\n",
    "\n",
    "Event3 = generate_event(TABLE, model3, NN, num_channels, im_size, single_input=True)\n",
    "df_clients_event3, sol_event3 =  generate_times(Event3)\n",
    "df_clients_event3['model'] = ['Model 3']*df_clients_event3.shape[0]\n",
    "total = total.append(df_clients_event3)"
   ]
  },
  {
   "cell_type": "code",
   "execution_count": 309,
   "metadata": {},
   "outputs": [],
   "source": [
    "#model4 = torch.load('model_size_30.pt')\n",
    "model4 = torch.load('model_weights2/model_size_30.pt')\n",
    "model4.eval()\n",
    "num_channels = 31\n",
    "im_size = 30\n",
    "\n",
    "Event4 = generate_event(TABLE, model4, NN, num_channels, im_size)\n",
    "df_clients_event4, sol_event4 =  generate_times(Event4)\n",
    "df_clients_event4['model'] = ['Model 4']*df_clients_event4.shape[0]\n",
    "total = total.append(df_clients_event4)"
   ]
  },
  {
   "cell_type": "code",
   "execution_count": 310,
   "metadata": {},
   "outputs": [],
   "source": [
    "model5 = torch.load('model_weights2/model_size_50.pt')\n",
    "#model5 = torch.load('model_weights2/model5_evaluation.pt')\n",
    "model5.eval()\n",
    "num_channels = 31\n",
    "im_size = 50\n",
    "\n",
    "Event5 = generate_event(TABLE, model5, NN, num_channels, im_size)\n",
    "df_clients_event5, sol_event5 =  generate_times(Event5)\n",
    "df_clients_event5['model'] = ['Model 5']*df_clients_event5.shape[0]\n",
    "total = total.append(df_clients_event5)"
   ]
  },
  {
   "cell_type": "code",
   "execution_count": 311,
   "metadata": {},
   "outputs": [],
   "source": [
    "model6 = torch.load('model_weights2/model6_evaluation.pt')\n",
    "model6.eval()\n",
    "num_channels = 2\n",
    "im_size = 30\n",
    "\n",
    "Event6 = generate_event(TABLE, model6, NN, num_channels, im_size)\n",
    "df_clients_event6, sol_event6 =  generate_times(Event6)\n",
    "df_clients_event6['model'] = ['Model 6']*df_clients_event6.shape[0]\n",
    "total = total.append(df_clients_event6)"
   ]
  },
  {
   "cell_type": "code",
   "execution_count": 312,
   "metadata": {},
   "outputs": [],
   "source": [
    "model7 = torch.load('model_weights2/model7_evaluation.pt')\n",
    "model7.eval()\n",
    "num_channels = 2\n",
    "im_size = 50\n",
    "\n",
    "Event7 = generate_event(TABLE, model7, NN, num_channels, im_size)\n",
    "df_clients_event7, sol_event7 =  generate_times(Event7)\n",
    "df_clients_event7['model'] = ['Model 7']*df_clients_event7.shape[0]\n",
    "total = total.append(df_clients_event7)"
   ]
  },
  {
   "cell_type": "code",
   "execution_count": 313,
   "metadata": {},
   "outputs": [],
   "source": [
    "total.to_csv('results_comparison2/results_table_{}.csv'.format(TABLE))"
   ]
  },
  {
   "cell_type": "code",
   "execution_count": 314,
   "metadata": {},
   "outputs": [],
   "source": [
    "stats = total.groupby('model').sum()\n",
    "stats['ride_t'] = [sum(v.ride_time for v in Event.vehicles) for Event in [Event00, Event2, Event3, Event4, Event5, Event6, Event7, Event_base]]\n",
    "stats['diff_delta_t'] = 100*(stats.iloc[-1].delta_t - stats['delta_t'])/stats.iloc[0].delta_t\n",
    "stats['diff_travel_t'] = 100*(stats.iloc[-1].travel_t - stats['travel_t'])/stats.iloc[0].travel_t\n",
    "stats['diff_service_t'] = 100*(stats.iloc[-1].service_t - stats['service_t'])/stats.iloc[0].service_t\n",
    "stats['diff_ride'] = 100*(stats.iloc[-1].ride_t - stats['ride_t'])/stats.iloc[0].ride_t\n",
    "stats.to_csv('results_comparison2/stats_table_{}.csv'.format(TABLE))"
   ]
  },
  {
   "cell_type": "code",
   "execution_count": 315,
   "metadata": {},
   "outputs": [],
   "source": []
  },
  {
   "cell_type": "code",
   "execution_count": 316,
   "metadata": {},
   "outputs": [
    {
     "name": "stderr",
     "output_type": "stream",
     "text": [
      "The PostScript backend does not support transparency; partially transparent artists will be rendered opaque.\n",
      "The PostScript backend does not support transparency; partially transparent artists will be rendered opaque.\n",
      "The PostScript backend does not support transparency; partially transparent artists will be rendered opaque.\n",
      "The PostScript backend does not support transparency; partially transparent artists will be rendered opaque.\n"
     ]
    },
    {
     "data": {
      "image/png": "[encoded data removed]",
      "text/plain": [
       "<Figure size 720x360 with 1 Axes>"
      ]
     },
     "metadata": {
      "needs_background": "light"
     },
     "output_type": "display_data"
    }
   ],
   "source": [
    "f, ax = plt.subplots(1, 1, figsize=(10,5))\n",
    "\n",
    "ax.boxplot([list(df_clients_event_base.service_t), list(df_clients_event4.service_t),\\\n",
    "            list(df_clients_event5.service_t),list(df_clients_event6.service_t), \\\n",
    "            list(df_clients_event7.service_t)], \\\n",
    "            labels=['Opt Policy', 'Model 4', 'Model 5', 'Model 6', 'Model 7'], positions = [0, 1, 2, 3, 4])\n",
    "\n",
    "plt.plot([0, 1, 2, 3, 4], [np.median(list(df_clients_event_base.service_t))]*5, 'b--', \\\n",
    "         linewidth=1, label='Median Optimal Solution')\n",
    "ax.set_ylabel('Time [min]')\n",
    "ax.set_title('Service time')\n",
    "plt.legend()\n",
    "plt.savefig('results_comparison2/service_time_table{}.eps'.format(TABLE), bbox_inches='tight')\n",
    "plt.show()"
   ]
  },
  {
   "cell_type": "code",
   "execution_count": 317,
   "metadata": {},
   "outputs": [
    {
     "name": "stderr",
     "output_type": "stream",
     "text": [
      "The PostScript backend does not support transparency; partially transparent artists will be rendered opaque.\n",
      "The PostScript backend does not support transparency; partially transparent artists will be rendered opaque.\n",
      "The PostScript backend does not support transparency; partially transparent artists will be rendered opaque.\n",
      "The PostScript backend does not support transparency; partially transparent artists will be rendered opaque.\n"
     ]
    },
    {
     "data": {
      "image/png": "[encoded data removed]",
      "text/plain": [
       "<Figure size 720x360 with 1 Axes>"
      ]
     },
     "metadata": {
      "needs_background": "light"
     },
     "output_type": "display_data"
    }
   ],
   "source": [
    "f, ax = plt.subplots(figsize=(10,5))\n",
    "ax.boxplot([list(df_clients_event_base.travel_t), list(df_clients_event4.travel_t),\\\n",
    "            list(df_clients_event5.travel_t), list(df_clients_event6.travel_t), list(df_clients_event7.travel_t)], \\\n",
    "            labels=['Opt Policy', 'Model 4', 'Model 5', 'Model 6', 'Model 7'], positions = [0, 1, 2, 3, 4])\n",
    "\n",
    "plt.plot([0, 1, 2, 3, 4], [np.median(list(df_clients_event_base.travel_t))]*5, 'b--', \\\n",
    "         linewidth=1, label='Median Optimal Solution')\n",
    "ax.set_ylabel('Time [min]')\n",
    "ax.set_title('Travel time')\n",
    "plt.legend()\n",
    "plt.savefig('results_comparison2/travel_t_table{}.eps'.format(TABLE), bbox_inches='tight')\n",
    "plt.show()"
   ]
  },
  {
   "cell_type": "code",
   "execution_count": 318,
   "metadata": {},
   "outputs": [
    {
     "data": {
      "image/png": "[encoded data removed]",
      "text/plain": [
       "<Figure size 720x360 with 1 Axes>"
      ]
     },
     "metadata": {
      "needs_background": "light"
     },
     "output_type": "display_data"
    }
   ],
   "source": [
    "f, ax = plt.subplots(figsize=(10,5))\n",
    "ax.boxplot([list(df_clients_event_base.delta_t), list(df_clients_event4.delta_t),\\\n",
    "            list(df_clients_event5.delta_t), list(df_clients_event6.delta_t), list(df_clients_event7.delta_t)], \\\n",
    "            labels=['Opt Policy', 'Model 4', 'Model 5', 'Model 6', 'Model 7'], positions = [0, 1, 2, 3, 4])\n",
    "plt.plot([0, 1, 2, 3, 4], [np.median(list(df_clients_event_base.delta_t))]*5, 'b--', \\\n",
    "         linewidth=1, label='Median Optimal Solution')\n",
    "ax.set_ylabel('Time [min]')\n",
    "ax.set_title('Total time')\n",
    "\n",
    "ax.grid(True)\n",
    "\n",
    "plt.savefig('results_comparison2/delta_t_table{}.eps'.format(TABLE), bbox_inches='tight')\n",
    "plt.show()"
   ]
  },
  {
   "cell_type": "code",
   "execution_count": 319,
   "metadata": {},
   "outputs": [],
   "source": [
    "used_v = []\n",
    "for ev in [Event00, Event2, Event3, Event4, Event5, Event6, Event7, Event_base]:\n",
    "    used_v.append(len([v for v in ev.vehicles if len(v.clients_carried) > 0]))"
   ]
  },
  {
   "cell_type": "code",
   "execution_count": 320,
   "metadata": {},
   "outputs": [],
   "source": [
    "stats['num_vehicles'] = used_v"
   ]
  },
  {
   "cell_type": "code",
   "execution_count": 321,
   "metadata": {},
   "outputs": [
    {
     "data": {
      "text/html": [
       "<div>\n",
       "<style scoped>\n",
       "    .dataframe tbody tr th:only-of-type {\n",
       "        vertical-align: middle;\n",
       "    }\n",
       "\n",
       "    .dataframe tbody tr th {\n",
       "        vertical-align: top;\n",
       "    }\n",
       "\n",
       "    .dataframe thead th {\n",
       "        text-align: right;\n",
       "    }\n",
       "</style>\n",
       "<table border=\"1\" class=\"dataframe\">\n",
       "  <thead>\n",
       "    <tr style=\"text-align: right;\">\n",
       "      <th></th>\n",
       "      <th>ID</th>\n",
       "      <th>arrival</th>\n",
       "      <th>pickup_t</th>\n",
       "      <th>dropoff_t</th>\n",
       "      <th>delta_t</th>\n",
       "      <th>travel_t</th>\n",
       "      <th>service_t</th>\n",
       "      <th>ride_t</th>\n",
       "      <th>diff_delta_t</th>\n",
       "      <th>diff_travel_t</th>\n",
       "      <th>diff_service_t</th>\n",
       "      <th>diff_ride</th>\n",
       "      <th>num_vehicles</th>\n",
       "    </tr>\n",
       "    <tr>\n",
       "      <th>model</th>\n",
       "      <th></th>\n",
       "      <th></th>\n",
       "      <th></th>\n",
       "      <th></th>\n",
       "      <th></th>\n",
       "      <th></th>\n",
       "      <th></th>\n",
       "      <th></th>\n",
       "      <th></th>\n",
       "      <th></th>\n",
       "      <th></th>\n",
       "      <th></th>\n",
       "      <th></th>\n",
       "    </tr>\n",
       "  </thead>\n",
       "  <tbody>\n",
       "    <tr>\n",
       "      <th>Model 1</th>\n",
       "      <td>4750</td>\n",
       "      <td>941.66</td>\n",
       "      <td>2948.748950</td>\n",
       "      <td>4374.550958</td>\n",
       "      <td>3432.890958</td>\n",
       "      <td>1425.802008</td>\n",
       "      <td>2007.088950</td>\n",
       "      <td>12023.390040</td>\n",
       "      <td>-28.780474</td>\n",
       "      <td>-9.698517</td>\n",
       "      <td>-42.335973</td>\n",
       "      <td>73.597495</td>\n",
       "      <td>14</td>\n",
       "    </tr>\n",
       "    <tr>\n",
       "      <th>Model 2</th>\n",
       "      <td>4750</td>\n",
       "      <td>941.66</td>\n",
       "      <td>8301.965500</td>\n",
       "      <td>9670.544404</td>\n",
       "      <td>8728.884404</td>\n",
       "      <td>1368.578904</td>\n",
       "      <td>7360.305500</td>\n",
       "      <td>3983.951286</td>\n",
       "      <td>-183.052588</td>\n",
       "      <td>-5.685120</td>\n",
       "      <td>-309.051434</td>\n",
       "      <td>140.462487</td>\n",
       "      <td>4</td>\n",
       "    </tr>\n",
       "    <tr>\n",
       "      <th>Model 3</th>\n",
       "      <td>4750</td>\n",
       "      <td>941.66</td>\n",
       "      <td>20951.955558</td>\n",
       "      <td>22172.956290</td>\n",
       "      <td>21231.296290</td>\n",
       "      <td>1221.000732</td>\n",
       "      <td>20010.295558</td>\n",
       "      <td>999.405906</td>\n",
       "      <td>-547.247432</td>\n",
       "      <td>4.665418</td>\n",
       "      <td>-939.316977</td>\n",
       "      <td>165.285314</td>\n",
       "      <td>1</td>\n",
       "    </tr>\n",
       "    <tr>\n",
       "      <th>Model 4</th>\n",
       "      <td>4750</td>\n",
       "      <td>941.66</td>\n",
       "      <td>2118.432382</td>\n",
       "      <td>3313.673362</td>\n",
       "      <td>2372.013362</td>\n",
       "      <td>1195.240980</td>\n",
       "      <td>1176.772382</td>\n",
       "      <td>21879.268950</td>\n",
       "      <td>2.122855</td>\n",
       "      <td>6.472103</td>\n",
       "      <td>-0.966777</td>\n",
       "      <td>-8.375051</td>\n",
       "      <td>23</td>\n",
       "    </tr>\n",
       "    <tr>\n",
       "      <th>Model 5</th>\n",
       "      <td>4750</td>\n",
       "      <td>941.66</td>\n",
       "      <td>2216.885966</td>\n",
       "      <td>3489.094712</td>\n",
       "      <td>2547.434712</td>\n",
       "      <td>1272.208746</td>\n",
       "      <td>1275.225966</td>\n",
       "      <td>19890.208170</td>\n",
       "      <td>-2.987163</td>\n",
       "      <td>1.073895</td>\n",
       "      <td>-5.872069</td>\n",
       "      <td>8.168210</td>\n",
       "      <td>22</td>\n",
       "    </tr>\n",
       "    <tr>\n",
       "      <th>Model 6</th>\n",
       "      <td>4750</td>\n",
       "      <td>941.66</td>\n",
       "      <td>2346.578850</td>\n",
       "      <td>3599.424576</td>\n",
       "      <td>2657.764576</td>\n",
       "      <td>1252.845726</td>\n",
       "      <td>1404.918850</td>\n",
       "      <td>17927.208444</td>\n",
       "      <td>-6.201068</td>\n",
       "      <td>2.431939</td>\n",
       "      <td>-12.333810</td>\n",
       "      <td>24.494718</td>\n",
       "      <td>21</td>\n",
       "    </tr>\n",
       "    <tr>\n",
       "      <th>Model 7</th>\n",
       "      <td>4750</td>\n",
       "      <td>941.66</td>\n",
       "      <td>2323.645392</td>\n",
       "      <td>3502.181856</td>\n",
       "      <td>2560.521856</td>\n",
       "      <td>1178.536464</td>\n",
       "      <td>1381.985392</td>\n",
       "      <td>18931.723200</td>\n",
       "      <td>-3.368391</td>\n",
       "      <td>7.643690</td>\n",
       "      <td>-11.191187</td>\n",
       "      <td>16.140046</td>\n",
       "      <td>21</td>\n",
       "    </tr>\n",
       "    <tr>\n",
       "      <th>solution</th>\n",
       "      <td>4750</td>\n",
       "      <td>941.66</td>\n",
       "      <td>2099.028310</td>\n",
       "      <td>3386.548666</td>\n",
       "      <td>2444.888666</td>\n",
       "      <td>1287.520356</td>\n",
       "      <td>1157.368310</td>\n",
       "      <td>20872.303926</td>\n",
       "      <td>0.000000</td>\n",
       "      <td>0.000000</td>\n",
       "      <td>0.000000</td>\n",
       "      <td>0.000000</td>\n",
       "      <td>23</td>\n",
       "    </tr>\n",
       "  </tbody>\n",
       "</table>\n",
       "</div>"
      ],
      "text/plain": [
       "            ID  arrival      pickup_t     dropoff_t       delta_t  \\\n",
       "model                                                               \n",
       "Model 1   4750   941.66   2948.748950   4374.550958   3432.890958   \n",
       "Model 2   4750   941.66   8301.965500   9670.544404   8728.884404   \n",
       "Model 3   4750   941.66  20951.955558  22172.956290  21231.296290   \n",
       "Model 4   4750   941.66   2118.432382   3313.673362   2372.013362   \n",
       "Model 5   4750   941.66   2216.885966   3489.094712   2547.434712   \n",
       "Model 6   4750   941.66   2346.578850   3599.424576   2657.764576   \n",
       "Model 7   4750   941.66   2323.645392   3502.181856   2560.521856   \n",
       "solution  4750   941.66   2099.028310   3386.548666   2444.888666   \n",
       "\n",
       "             travel_t     service_t        ride_t  diff_delta_t  \\\n",
       "model                                                             \n",
       "Model 1   1425.802008   2007.088950  12023.390040    -28.780474   \n",
       "Model 2   1368.578904   7360.305500   3983.951286   -183.052588   \n",
       "Model 3   1221.000732  20010.295558    999.405906   -547.247432   \n",
       "Model 4   1195.240980   1176.772382  21879.268950      2.122855   \n",
       "Model 5   1272.208746   1275.225966  19890.208170     -2.987163   \n",
       "Model 6   1252.845726   1404.918850  17927.208444     -6.201068   \n",
       "Model 7   1178.536464   1381.985392  18931.723200     -3.368391   \n",
       "solution  1287.520356   1157.368310  20872.303926      0.000000   \n",
       "\n",
       "          diff_travel_t  diff_service_t   diff_ride  num_vehicles  \n",
       "model                                                              \n",
       "Model 1       -9.698517      -42.335973   73.597495            14  \n",
       "Model 2       -5.685120     -309.051434  140.462487             4  \n",
       "Model 3        4.665418     -939.316977  165.285314             1  \n",
       "Model 4        6.472103       -0.966777   -8.375051            23  \n",
       "Model 5        1.073895       -5.872069    8.168210            22  \n",
       "Model 6        2.431939      -12.333810   24.494718            21  \n",
       "Model 7        7.643690      -11.191187   16.140046            21  \n",
       "solution       0.000000        0.000000    0.000000            23  "
      ]
     },
     "execution_count": 321,
     "metadata": {},
     "output_type": "execute_result"
    }
   ],
   "source": [
    "stats"
   ]
  },
  {
   "cell_type": "code",
   "execution_count": 322,
   "metadata": {},
   "outputs": [],
   "source": [
    "stats.to_csv('results_comparison2/results_report.csv')"
   ]
  },
  {
   "cell_type": "code",
   "execution_count": 200,
   "metadata": {},
   "outputs": [],
   "source": [
    "overall = pd.read_csv('results_comparison2/overall.csv', decimal=',', sep=';')"
   ]
  },
  {
   "cell_type": "code",
   "execution_count": 201,
   "metadata": {},
   "outputs": [],
   "source": [
    "overall = overall.iloc[:,:14].copy()"
   ]
  },
  {
   "cell_type": "code",
   "execution_count": 202,
   "metadata": {},
   "outputs": [],
   "source": [
    "overall['diff_ride'] = overall['diff_ride']/2.5"
   ]
  },
  {
   "cell_type": "code",
   "execution_count": 326,
   "metadata": {},
   "outputs": [],
   "source": [
    "aux = overall[['MODEL','diff_delta_t','diff_travel_t','diff_service_t', 'diff_ride']].copy()"
   ]
  },
  {
   "cell_type": "code",
   "execution_count": 339,
   "metadata": {},
   "outputs": [],
   "source": [
    "means = {}\n",
    "for i in range(8):\n",
    "    means[i] = []\n",
    "for k in range(100):\n",
    "    aux_s = aux.sample(frac=1, replace=True)\n",
    "    means_s = aux_s.groupby('MODEL').mean()\n",
    "    for j in range(8):\n",
    "        means[j].append(means_s.iloc[j])"
   ]
  },
  {
   "cell_type": "code",
   "execution_count": 343,
   "metadata": {},
   "outputs": [],
   "source": [
    "values = []\n",
    "stds = []\n",
    "for i in range(1,8):\n",
    "    aux1 = pd.DataFrame(means[i])\n",
    "    values.append(aux1.mean())\n",
    "    stds.append(aux1.std())"
   ]
  },
  {
   "cell_type": "code",
   "execution_count": 344,
   "metadata": {},
   "outputs": [],
   "source": [
    "m = pd.DataFrame(values)\n",
    "st = pd.DataFrame(stds)\n",
    "st = st/np.sqrt(100)\n",
    "st.index = st.index + 1\n",
    "m.index = m.index + 1"
   ]
  },
  {
   "cell_type": "code",
   "execution_count": 353,
   "metadata": {},
   "outputs": [],
   "source": [
    "st['MODEL'] = list(range(1,8))"
   ]
  },
  {
   "cell_type": "code",
   "execution_count": 368,
   "metadata": {},
   "outputs": [],
   "source": [
    "st.index = st.index + 1"
   ]
  },
  {
   "cell_type": "code",
   "execution_count": 381,
   "metadata": {},
   "outputs": [
    {
     "data": {
      "image/png": "[encoded data removed]",
      "text/plain": [
       "<Figure size 2016x288 with 4 Axes>"
      ]
     },
     "metadata": {
      "needs_background": "light"
     },
     "output_type": "display_data"
    }
   ],
   "source": [
    "f, ax = plt.subplots(1, 4, figsize=(28,4))\n",
    "matplotlib.rcParams.update({'font.size': 14})\n",
    "#ax.flatten()\n",
    "m[m.MODEL > 3].diff_service_t.plot(kind='bar', yerr=st[st.MODEL > 3].diff_service_t, x=list(range(4,8)), xticks=list(range(4)), ax=ax[0])\n",
    "ax[0].set_title('Service Time')\n",
    "ax[0].set_ylabel('% of variation')\n",
    "ax[0].set_xlabel('Model')\n",
    "m[m.MODEL > 3].diff_travel_t.plot(kind='bar', yerr=st[st.MODEL > 3].diff_travel_t, xticks=list(range(4,8)), ax=ax[1])\n",
    "ax[1].set_title('Travel Time')\n",
    "ax[1].set_ylabel('% of variation')\n",
    "ax[1].set_xlabel('Model')\n",
    "m[m.MODEL > 3].diff_delta_t.plot(kind='bar', yerr=st[st.MODEL > 3].diff_delta_t, xticks=list(range(4,8)), ax=ax[2])\n",
    "ax[2].set_title('Total Time')\n",
    "ax[2].set_ylabel('% of variation')\n",
    "ax[2].set_xlabel('Model')\n",
    "ax[2].set_yticks(list(range(-10,1)))\n",
    "m[m.MODEL > 3].diff_ride.plot(kind='bar', yerr=st[st.MODEL > 3].diff_ride, xticks=list(range(4,8)), ax=ax[3])\n",
    "ax[3].set_title('Ride Time')\n",
    "ax[3].set_ylabel('% of variation')\n",
    "ax[3].set_xlabel('Model')\n",
    "ax[3].set_yticks(list(range(0,30, 5)))\n",
    "plt.savefig('results_comparison2/overall.eps'.format(TABLE), bbox_inches='tight')\n",
    "plt.show()"
   ]
  },
  {
   "cell_type": "code",
   "execution_count": null,
   "metadata": {},
   "outputs": [],
   "source": []
  }
 ],
 "metadata": {
  "kernelspec": {
   "display_name": "Python 3",
   "language": "python",
   "name": "python3"
  },
  "language_info": {
   "codemirror_mode": {
    "name": "ipython",
    "version": 3
   },
   "file_extension": ".py",
   "mimetype": "text/x-python",
   "name": "python",
   "nbconvert_exporter": "python",
   "pygments_lexer": "ipython3",
   "version": "3.7.3"
  }
 },
 "nbformat": 4,
 "nbformat_minor": 2
}
